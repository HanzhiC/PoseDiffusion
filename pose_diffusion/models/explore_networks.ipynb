{
 "cells": [
  {
   "cell_type": "code",
   "execution_count": 3,
   "id": "18a132d0",
   "metadata": {},
   "outputs": [],
   "source": [
    "from gaussian_diffuser import GaussianDiffusion"
   ]
  },
  {
   "cell_type": "code",
   "execution_count": 4,
   "id": "e62af56d",
   "metadata": {},
   "outputs": [],
   "source": [
    "diffusion = GaussianDiffusion()"
   ]
  },
  {
   "cell_type": "code",
   "execution_count": null,
   "id": "30ca2bf9",
   "metadata": {},
   "outputs": [],
   "source": []
  },
  {
   "cell_type": "code",
   "execution_count": null,
   "id": "96cf96f6",
   "metadata": {},
   "outputs": [],
   "source": []
  }
 ],
 "metadata": {
  "kernelspec": {
   "display_name": "Python 3 (ipykernel)",
   "language": "python",
   "name": "python3"
  },
  "language_info": {
   "codemirror_mode": {
    "name": "ipython",
    "version": 3
   },
   "file_extension": ".py",
   "mimetype": "text/x-python",
   "name": "python",
   "nbconvert_exporter": "python",
   "pygments_lexer": "ipython3",
   "version": "3.7.15"
  }
 },
 "nbformat": 4,
 "nbformat_minor": 5
}
